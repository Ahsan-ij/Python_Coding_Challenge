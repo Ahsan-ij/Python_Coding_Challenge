{
 "cells": [
  {
   "cell_type": "markdown",
   "metadata": {},
   "source": [
    "##### Day_Five_Task \n",
    "### (Scope,Dates,Math)"
   ]
  },
  {
   "cell_type": "code",
   "execution_count": 9,
   "metadata": {},
   "outputs": [
    {
     "name": "stdout",
     "output_type": "stream",
     "text": [
      "300\n",
      "300\n",
      "500\n",
      "500\n",
      "200\n",
      "400\n"
     ]
    }
   ],
   "source": [
    "# Local Scope\n",
    "def myfunc():\n",
    "    x = 300\n",
    "    print(x)\n",
    "\n",
    "myfunc()\n",
    "\n",
    "#functon inside function:\n",
    "\n",
    "def myfunc():\n",
    "    x = 300\n",
    "    def innerfunc():\n",
    "        print(x)\n",
    "    innerfunc()\n",
    "myfunc()\n",
    "\n",
    "#Global Function\n",
    "x= 500\n",
    "def myfunc():\n",
    "    print(x)\n",
    "myfunc()\n",
    "print(x)\n",
    "\n",
    "\n",
    "x = 400\n",
    "def myfunc():\n",
    "    x = 200\n",
    "    print(x)\n",
    "myfunc()\n",
    "print(x)\n",
    "\n"
   ]
  },
  {
   "cell_type": "code",
   "execution_count": 12,
   "metadata": {},
   "outputs": [
    {
     "name": "stdout",
     "output_type": "stream",
     "text": [
      "2024-09-29 21:42:40.718965\n",
      "2024\n",
      "Sunday\n",
      "2024-09-29 00:00:00\n"
     ]
    }
   ],
   "source": [
    "#Python Date\n",
    "import datetime\n",
    "x = datetime.datetime.now()\n",
    "print(x)\n",
    "\n",
    "x = datetime.datetime.now()\n",
    "print(x.year)\n",
    "print(x.strftime('%A'))\n",
    "\n",
    "x = datetime.datetime(2024,9,29)\n",
    "print(x)"
   ]
  },
  {
   "cell_type": "code",
   "execution_count": 16,
   "metadata": {},
   "outputs": [
    {
     "name": "stdout",
     "output_type": "stream",
     "text": [
      "5\n",
      "20\n",
      "7.25\n",
      "256\n",
      "2\n",
      "1\n"
     ]
    }
   ],
   "source": [
    "#Python Math\n",
    "x = min(5,10,15)\n",
    "y = max(15,20,17)\n",
    "print(x)\n",
    "print(y)\n",
    "\n",
    "x = abs(-7.25)\n",
    "print(x)\n",
    "\n",
    "x = pow(2,8)\n",
    "print(x)\n",
    "\n",
    "import math\n",
    "x = math.ceil(1.4)\n",
    "y = math.floor(1.4)\n",
    "print(x)\n",
    "print(y)"
   ]
  }
 ],
 "metadata": {
  "kernelspec": {
   "display_name": "env_name",
   "language": "python",
   "name": "python3"
  },
  "language_info": {
   "codemirror_mode": {
    "name": "ipython",
    "version": 3
   },
   "file_extension": ".py",
   "mimetype": "text/x-python",
   "name": "python",
   "nbconvert_exporter": "python",
   "pygments_lexer": "ipython3",
   "version": "3.12.4"
  }
 },
 "nbformat": 4,
 "nbformat_minor": 2
}

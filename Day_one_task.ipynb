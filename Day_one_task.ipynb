{
 "cells": [
  {
   "cell_type": "markdown",
   "metadata": {},
   "source": [
    "### Python Day One Task\n",
    "#### (Comments,Variables,Data Type,Numbers,Casting,Boolean)\n"
   ]
  },
  {
   "cell_type": "code",
   "execution_count": 4,
   "metadata": {},
   "outputs": [
    {
     "name": "stdout",
     "output_type": "stream",
     "text": [
      "Hello, world\n",
      "new internee\n"
     ]
    }
   ],
   "source": [
    "# print statment\n",
    "print('Hello, world')\n",
    "print('new internee')\n"
   ]
  },
  {
   "cell_type": "code",
   "execution_count": 5,
   "metadata": {},
   "outputs": [
    {
     "name": "stdout",
     "output_type": "stream",
     "text": [
      "3.12.4 (tags/v3.12.4:8e8a4ba, Jun  6 2024, 19:30:16) [MSC v.1940 64 bit (AMD64)]\n"
     ]
    }
   ],
   "source": [
    "# python version check\n",
    "import sys\n",
    "print(sys.version)"
   ]
  },
  {
   "cell_type": "code",
   "execution_count": 6,
   "metadata": {},
   "outputs": [
    {
     "name": "stdout",
     "output_type": "stream",
     "text": [
      "Hello Ahsan\n",
      "Done\n"
     ]
    }
   ],
   "source": [
    "# Comments\n",
    "print('Hello Ahsan')  #This is print statment\n",
    "\n",
    "\"\"\"\n",
    "  We can aslo write comment in this format\n",
    "\"\"\"\n",
    "print('Done')"
   ]
  },
  {
   "cell_type": "code",
   "execution_count": 15,
   "metadata": {},
   "outputs": [
    {
     "name": "stdout",
     "output_type": "stream",
     "text": [
      "6\n",
      "ali\n",
      "3\n",
      "3\n",
      "3.0\n",
      "<class 'int'>\n",
      "<class 'str'>\n",
      "('orange', 'apple', 'mango')\n",
      "Banana\n",
      "Banana\n",
      "Banana\n",
      "apple\n",
      "mango\n",
      "banana\n",
      "python is  easy  language\n"
     ]
    }
   ],
   "source": [
    "#Python Variables\n",
    "\n",
    "x = 6\n",
    "y = 'ali'\n",
    "print(x)\n",
    "print(y)\n",
    "\n",
    "#Casting:\n",
    "x = str(3)\n",
    "y = int(3)\n",
    "z = float(3)\n",
    "\n",
    "print(x)\n",
    "print(y)\n",
    "print(z)\n",
    "\n",
    "#Variables Type:\n",
    "x = 10 \n",
    "y = 'Ahsan'\n",
    "print(type(x))\n",
    "print(type(y))\n",
    "\n",
    "#Assign variable:\n",
    "myFruits = 'orange','apple','mango'\n",
    "print(myFruits)\n",
    "\n",
    "#one value to multiple variable\n",
    "\n",
    "x = y = z = 'Banana'\n",
    "print(x)\n",
    "print(y)\n",
    "print(z)\n",
    "\n",
    "#Unpacking in variables\n",
    "fruits = ['apple','mango','banana']\n",
    "x,y,z = fruits\n",
    "print(x)\n",
    "print(y)\n",
    "print(z)\n",
    "\n",
    "#Output Variables\n",
    "x = 'python is '\n",
    "y = 'easy '\n",
    "z = 'language'\n",
    "print(x,y,z)"
   ]
  },
  {
   "cell_type": "code",
   "execution_count": 17,
   "metadata": {},
   "outputs": [
    {
     "name": "stdout",
     "output_type": "stream",
     "text": [
      "Hello World\n",
      "20\n",
      "['apple', 'banana', 'cherry']\n",
      "('apple', 'banana', 'cherry')\n",
      "range(0, 6)\n",
      "{'name': 'John', 'age': 36}\n",
      "{'banana', 'cherry', 'apple'}\n",
      "frozenset({'banana', 'cherry', 'apple'})\n",
      "True\n",
      "b'\\x00\\x00\\x00\\x00\\x00'\n",
      "bytearray(b'\\x00\\x00\\x00\\x00\\x00')\n",
      "<memory at 0x000001F0EF8B5D80>\n"
     ]
    }
   ],
   "source": [
    "#Python DataType\n",
    "\n",
    "a = str(\"Hello World\")\n",
    "print(a)\n",
    "b = int(20)\n",
    "print(b)\n",
    "c = list((\"apple\", \"banana\", \"cherry\"))\n",
    "print(c)\n",
    "d = tuple((\"apple\", \"banana\", \"cherry\"))\n",
    "print(d)\n",
    "e = range(6)\n",
    "print(e)\n",
    "m = dict(name=\"John\", age=36)\n",
    "print(m)\n",
    "g = set((\"apple\", \"banana\", \"cherry\"))\n",
    "print(g)\n",
    "h = frozenset((\"apple\", \"banana\", \"cherry\"))\n",
    "print(h)\n",
    "o = bool(5)\n",
    "print(o)\n",
    "j = bytes(5)\n",
    "print(j)\n",
    "k = bytearray(5)\n",
    "print(k)\n",
    "l = memoryview(bytes(5))\n",
    "print(l)"
   ]
  },
  {
   "cell_type": "code",
   "execution_count": 14,
   "metadata": {},
   "outputs": [
    {
     "name": "stdout",
     "output_type": "stream",
     "text": [
      "<class 'int'>\n",
      "<class 'float'>\n",
      "<class 'complex'>\n",
      "<class 'int'>\n",
      "<class 'int'>\n",
      "<class 'int'>\n",
      "<class 'float'>\n",
      "<class 'float'>\n",
      "<class 'float'>\n",
      "<class 'complex'>\n",
      "<class 'complex'>\n",
      "<class 'complex'>\n",
      "4.0\n",
      "0\n",
      "(4+0j)\n",
      "<class 'float'>\n",
      "<class 'int'>\n",
      "<class 'complex'>\n",
      "1\n"
     ]
    }
   ],
   "source": [
    "#Python Numbers:\n",
    "x = 1\n",
    "y = 2.8\n",
    "z = 1+2j\n",
    "print(type(x))\n",
    "print(type(y))\n",
    "print(type(z))\n",
    "\n",
    "#Int Numbers:\n",
    "x = 1\n",
    "y = 3456787654334567\n",
    "z = -3456788\n",
    "print(type(x))\n",
    "print(type(y))\n",
    "print(type(z))\n",
    "\n",
    "#Float Numbers:\n",
    "x = 4.5\n",
    "y = 35.56\n",
    "z = -1.56\n",
    "print(type(x))\n",
    "print(type(y))\n",
    "print(type(z))\n",
    "\n",
    "#Complex Number:\n",
    "x = 5j\n",
    "y = 3+5j\n",
    "z = -5j\n",
    "print(type(x))\n",
    "print(type(y))\n",
    "print(type(z))\n",
    "\n",
    "#Type Conversion:\n",
    "x = 4\n",
    "y = 0.5\n",
    "z = 2j\n",
    "a = float(x)\n",
    "b = int(y)\n",
    "c = complex(x)\n",
    "print(a)\n",
    "print(b)\n",
    "print(c)\n",
    "print(type(a))\n",
    "print(type(b))\n",
    "print(type(c))\n",
    "\n",
    "# Random Number:\n",
    "import random\n",
    "print(random.randrange(1,5))"
   ]
  },
  {
   "cell_type": "code",
   "execution_count": 20,
   "metadata": {},
   "outputs": [
    {
     "name": "stdout",
     "output_type": "stream",
     "text": [
      "1\n",
      "2\n",
      "3\n",
      "1.0\n",
      "2.8\n",
      "3.0\n",
      "s1\n",
      "2\n",
      "3.0\n"
     ]
    }
   ],
   "source": [
    "# Python Casting:\n",
    "x = int(1)\n",
    "y = int(2.8)\n",
    "z = int('3')\n",
    "print(x)\n",
    "print(y)\n",
    "print(z)\n",
    "\n",
    "# For float:\n",
    "x = float(1)\n",
    "y = float(2.8)\n",
    "z = float('3')\n",
    "print(x)\n",
    "print(y)\n",
    "print(z)\n",
    "\n",
    "# For String:\n",
    "x = str('s1')\n",
    "y = str(2)\n",
    "z = str(3.0)\n",
    "print(x)\n",
    "print(y)\n",
    "print(z)\n"
   ]
  },
  {
   "cell_type": "code",
   "execution_count": 65,
   "metadata": {},
   "outputs": [
    {
     "name": "stdout",
     "output_type": "stream",
     "text": [
      "Hello World\n",
      "Its sunny day\n",
      "He is a 'good' boy\n",
      "I am not \"available\" today\n",
      "Hello I would like to \n",
      "say that Im unable to attend \n",
      "todays seminar\n",
      "d\n",
      "b\n",
      "a\n",
      "n\n",
      "a\n",
      "n\n",
      "a\n",
      "6\n",
      "True\n",
      "False\n",
      "navr\n",
      "Funavra\n",
      "unavra company\n",
      "mpa\n",
      "a com\n",
      "AHSAN IJAZ\n",
      "ahsan ijaz\n",
      "ahsan ijaz\n",
      "aHsan ijaz\n",
      "Ahsan Ijaz\n",
      "Ahsan Ijaz\n",
      "My age is 24\n",
      "The price is 50 dollar\n",
      "The price is 1000 for double fruits\n",
      "The price is 9.00 dollars\n"
     ]
    }
   ],
   "source": [
    "# Strings:\n",
    "print('Hello World')\n",
    "\n",
    "# string inside string:\n",
    "print('Its sunny day')\n",
    "print(\"He is a 'good' boy\")\n",
    "print('I am not \"available\" today')\n",
    "\n",
    "# Multilinel String:\n",
    "a = \"\"\"Hello I would like to \n",
    "say that Im unable to attend \n",
    "todays seminar\"\"\"\n",
    "print(a)\n",
    "\n",
    "#Strings are Array:\n",
    "a = \"Good Morning\"\n",
    "print(a[3])\n",
    "\n",
    "#looping through a string:\n",
    "for x in \"banana\":\n",
    "    print(x)\n",
    "\n",
    "#String Length:\n",
    "x = \"banana\"\n",
    "print(len(x))\n",
    "\n",
    "#Check String:\n",
    "txt = \"This string is for testing\"\n",
    "print('testing' in txt)\n",
    "\n",
    "#Check if not:\n",
    "text = \"It is easy for me to join meeting\"\n",
    "print('join' not in text)\n",
    "\n",
    "#Slicing String:\n",
    "b = 'Funavra company'\n",
    "print(b[2:6])\n",
    "print(b[:7])\n",
    "print(b[1:])\n",
    "print(b[-5:-2])\n",
    "print(b[-9:-4])\n",
    "\n",
    "#Modify String:\n",
    "c = 'ahsan ijaz'\n",
    "print(c.upper())\n",
    "print(c.lower())\n",
    "print(c.strip())\n",
    "print(c.replace('h','H'))\n",
    "\n",
    "#Concatenation in String:\n",
    "a = 'Ahsan'\n",
    "b = ' Ijaz'\n",
    "c = a + b\n",
    "print(c)\n",
    "c = a + \"\" + b\n",
    "print(c)\n",
    "\n",
    "#format string:\n",
    "age = 24\n",
    "price = 50\n",
    "prices = 9\n",
    "txt = f'My age is {age}'\n",
    "txt2 = f'The price is {price} dollar'\n",
    "txt3 = f'The price is {20*50} for double fruits'\n",
    "txt4 = f'The price is {prices:.2f} dollars'\n",
    "\n",
    "print(txt)\n",
    "print(txt2)\n",
    "print(txt3)\n",
    "print(txt4)\n",
    "\n",
    "\n"
   ]
  },
  {
   "cell_type": "code",
   "execution_count": 73,
   "metadata": {},
   "outputs": [
    {
     "name": "stdout",
     "output_type": "stream",
     "text": [
      "True\n",
      "False\n",
      "False\n",
      "a is greater\n",
      "True\n",
      "False\n",
      "True\n",
      "Yes!\n"
     ]
    }
   ],
   "source": [
    "#Python Boolean:\n",
    "print(10 > 8)\n",
    "print(10 == 12)\n",
    "print(19 < 18)\n",
    "\n",
    "#Message Based Condition:\n",
    "a = 200 \n",
    "b = 30\n",
    "\n",
    "if a > b:\n",
    "    print('a is greater')\n",
    "else:\n",
    "    print('b is greater')\n",
    "\n",
    "#Valued are True\n",
    "print(bool('abx'))\n",
    "print(bool())\n",
    "print(bool(['apple','cherry','banana']))\n",
    "\n",
    "#Boolean function is true?\n",
    "def myFunction():\n",
    "    return True\n",
    "\n",
    "if myFunction():\n",
    "    print('Yes!')\n",
    "else:\n",
    "    print('No')"
   ]
  },
  {
   "cell_type": "code",
   "execution_count": 84,
   "metadata": {},
   "outputs": [
    {
     "name": "stdout",
     "output_type": "stream",
     "text": [
      "8\n",
      "5\n",
      "3.3333333333333335\n",
      "2\n",
      "True\n",
      "True\n",
      "1\n"
     ]
    }
   ],
   "source": [
    "#Python Operators:\n",
    "x = 5\n",
    "x +=3\n",
    "print(x)\n",
    "\n",
    "y = 10\n",
    "y-= 5\n",
    "print(y)\n",
    "\n",
    "a = 10\n",
    "a /= 3\n",
    "print(a)\n",
    "\n",
    "b = 14\n",
    "b %=4\n",
    "print(b)\n",
    "\n",
    "#Logical Operators:\n",
    "x = 7\n",
    "print(x > 5 and x < 8)\n",
    "\n",
    "x = 6\n",
    "print(x > 9 or x < 7)\n",
    "\n",
    "\n",
    "#Bitwise Operators:\n",
    "  #parathesis :\n",
    "\n",
    "print((6+5)-(6+4))\n"
   ]
  }
 ],
 "metadata": {
  "kernelspec": {
   "display_name": "env_name",
   "language": "python",
   "name": "python3"
  },
  "language_info": {
   "codemirror_mode": {
    "name": "ipython",
    "version": 3
   },
   "file_extension": ".py",
   "mimetype": "text/x-python",
   "name": "python",
   "nbconvert_exporter": "python",
   "pygments_lexer": "ipython3",
   "version": "3.12.4"
  }
 },
 "nbformat": 4,
 "nbformat_minor": 2
}

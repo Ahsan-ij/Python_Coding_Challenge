{
 "cells": [
  {
   "cell_type": "markdown",
   "metadata": {},
   "source": [
    "#### PYTHON DAY FOUR TASK\n",
    "##### (CLASS , OBJECTS , INHERITANCE)"
   ]
  },
  {
   "cell_type": "code",
   "execution_count": 44,
   "metadata": {},
   "outputs": [
    {
     "name": "stdout",
     "output_type": "stream",
     "text": [
      "4\n",
      "blue\n",
      "Ahsan\n",
      "34\n",
      "<__main__.Person object at 0x00000271047E5CD0>\n",
      "Ahsan\n",
      "Ali\n",
      "Welcome Students Ahsan\n",
      "Hello my name is Zeeshan\n",
      "My marks is : 100\n",
      "Hi Ahsan your avg score is 82.0\n",
      "Hello my name is Ijaz , My age is 40\n",
      "Hello my name is Ijaz , My age is 50\n"
     ]
    }
   ],
   "source": [
    "#Classes/Object:\n",
    "class myClass:\n",
    "    x = 4\n",
    "p1 = myClass()\n",
    "print(p1.x)\n",
    "\n",
    "class Car:\n",
    "    color = 'blue'\n",
    "\n",
    "car1 = Car()\n",
    "print(car1.color)\n",
    "\n",
    "\n",
    "class Person:\n",
    "    def __init__(self,name,age):\n",
    "        self.name = name\n",
    "        self.age = age\n",
    "\n",
    "p1 = Person('Ahsan',34)\n",
    "print(p1.name)\n",
    "print(p1.age)\n",
    "\n",
    "\n",
    "class Person:\n",
    "    def __init__(self,name,age):\n",
    "        self.name = name\n",
    "        self.age = age\n",
    "    \n",
    "p1 = Person('ahsan',24)\n",
    "print(p1)\n",
    "\n",
    "class Students:\n",
    "    def __init__(self,name):\n",
    "        self.name = name \n",
    "\n",
    "s1 = Students('Ahsan')\n",
    "print(s1.name)\n",
    "\n",
    "s2 = Students('Ali')\n",
    "print(s2.name)\n",
    "\n",
    "\n",
    "class Student:\n",
    "    def __init__(self,name):\n",
    "        self.name = name \n",
    "    \n",
    "    def welcome(self):\n",
    "        print('Welcome Students',self.name)\n",
    "    \n",
    "stud = Student('Ahsan')\n",
    "stud.welcome()\n",
    "\n",
    "\n",
    "class Person:\n",
    "    def __init__(self,name,age,marks):\n",
    "        self.name = name\n",
    "        self.age = age\n",
    "        self.marks = marks\n",
    "    def myfunc(self):\n",
    "        print('Hello my name is ' + self.name)\n",
    "    def get_marks(self):\n",
    "        print(f'My marks is : {self.marks}')\n",
    "\n",
    "p1 = Person('Zeeshan',41,100)\n",
    "p1.myfunc()\n",
    "p1.get_marks()\n",
    "\n",
    "\n",
    "class Student:\n",
    "    def __init__(self,name,marks):\n",
    "        self.name = name \n",
    "        self.marks = marks\n",
    "\n",
    "    def avg_mark(self):\n",
    "        sum = 0\n",
    "        for marks in self.marks:\n",
    "            sum +=marks\n",
    "        print('Hi',self.name,'your avg score is',sum/3)\n",
    "        \n",
    "\n",
    "s1 = Student('Ahsan',[70,90,86])\n",
    "s1.avg_mark()\n",
    "\n",
    "\n",
    "class Person:\n",
    "    def __init__(mysillyobject,name,age):\n",
    "        mysillyobject.name = name\n",
    "        mysillyobject.age = age\n",
    "    def myfunc(abcd):\n",
    "        print(f'Hello my name is {abcd.name} , My age is {abcd.age}')\n",
    "\n",
    "p1 = Person('Ijaz',40)\n",
    "p1.myfunc()\n",
    "p1.age = 50\n",
    "p1.myfunc()"
   ]
  },
  {
   "cell_type": "code",
   "execution_count": 77,
   "metadata": {},
   "outputs": [
    {
     "name": "stdout",
     "output_type": "stream",
     "text": [
      "Ahsan Ijaz\n"
     ]
    }
   ],
   "source": [
    "#Inheritance\n",
    "class Person:\n",
    "    def __init__(self,fname,lname):\n",
    "        self.firstname = fname\n",
    "        self.lastname = lname\n",
    "    \n",
    "    def printname(self):\n",
    "        print(self.firstname,self.lastname)\n",
    "\n",
    "p1 = Person('Ahsan','Ijaz')\n",
    "p1.printname()\n",
    "\n",
    "\n"
   ]
  }
 ],
 "metadata": {
  "kernelspec": {
   "display_name": "env_name",
   "language": "python",
   "name": "python3"
  },
  "language_info": {
   "codemirror_mode": {
    "name": "ipython",
    "version": 3
   },
   "file_extension": ".py",
   "mimetype": "text/x-python",
   "name": "python",
   "nbconvert_exporter": "python",
   "pygments_lexer": "ipython3",
   "version": "3.12.4"
  }
 },
 "nbformat": 4,
 "nbformat_minor": 2
}

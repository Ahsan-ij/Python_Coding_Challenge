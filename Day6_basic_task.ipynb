{
 "cells": [
  {
   "cell_type": "markdown",
   "metadata": {},
   "source": [
    "#### Day_six_task\n",
    "##### (JSON, RegEx,PIP, Try_Except, User Input,String formatting)"
   ]
  },
  {
   "cell_type": "code",
   "execution_count": 17,
   "metadata": {},
   "outputs": [
    {
     "name": "stdout",
     "output_type": "stream",
     "text": [
      "Islamabad\n",
      "{\"name\": \"Ali\", \"age\": 19, \"city\": \"Islamabad\"}\n",
      "{\"name\": \"John\", \"age\": 20}\n",
      "[\"apple\", \"bananas\"]\n",
      "[\"ananas\", \"kiwi\"]\n",
      "\"hello\"\n",
      "43\n",
      "41.3\n",
      "true\n",
      "false\n",
      "null\n",
      "{\"name\": \"Ahsan\", \"age\": 30, \"married\": true, \"divorced\": false, \"children\": [\"Ali\", \"Hamza\"], \"pets\": null, \"cars\": [{\"model\": \"BMW 230\", \"mpg\": 27.5}, {\"model\": \"Honda\", \"mpg\": 21.5}]}\n",
      "{\n",
      "  \"name\": \"Ahsan\",\n",
      "  \"age\": 30,\n",
      "  \"married\": true,\n",
      "  \"divorced\": false,\n",
      "  \"children\": [\n",
      "    \"Ali\",\n",
      "    \"Hamza\"\n",
      "  ],\n",
      "  \"pets\": null,\n",
      "  \"cars\": [\n",
      "    {\n",
      "      \"model\": \"BMW 230\",\n",
      "      \"mpg\": 27.5\n",
      "    },\n",
      "    {\n",
      "      \"model\": \"Honda\",\n",
      "      \"mpg\": 21.5\n",
      "    }\n",
      "  ]\n",
      "}\n",
      "{\n",
      "    \"age\": 30,\n",
      "    \"cars\": [\n",
      "        {\n",
      "            \"model\": \"BMW 230\",\n",
      "            \"mpg\": 27.5\n",
      "        },\n",
      "        {\n",
      "            \"model\": \"Honda\",\n",
      "            \"mpg\": 21.5\n",
      "        }\n",
      "    ],\n",
      "    \"children\": [\n",
      "        \"Ali\",\n",
      "        \"Hamza\"\n",
      "    ],\n",
      "    \"divorced\": false,\n",
      "    \"married\": true,\n",
      "    \"name\": \"Ahsan\",\n",
      "    \"pets\": null\n",
      "}\n"
     ]
    }
   ],
   "source": [
    "#Json:\n",
    "import json\n",
    "x = '{\"name\":\"john\",\"age\":30,\"city\":\"Islamabad\"}'\n",
    "x = json.loads(x)\n",
    "print(x['city'])\n",
    "\n",
    "x ={\n",
    "    \"name\":\"Ali\",\n",
    "    \"age\": 19,\n",
    "    \"city\":\"Islamabad\"\n",
    "}\n",
    "x = json.dumps(x)\n",
    "print(x)\n",
    "\n",
    "print(json.dumps({\"name\":\"John\",\"age\":20}))\n",
    "print(json.dumps(['apple','bananas']))\n",
    "print(json.dumps(('ananas','kiwi')))\n",
    "print(json.dumps('hello'))\n",
    "print(json.dumps(43))\n",
    "print(json.dumps(41.3))\n",
    "print(json.dumps(True))\n",
    "print(json.dumps(False))\n",
    "print(json.dumps(None))\n",
    "\n",
    "\n",
    "x = {\n",
    "    \"name\":\"Ahsan\",\n",
    "    \"age\":30,\n",
    "    \"married\":True,\n",
    "    \"divorced\":False,\n",
    "    \"children\":('Ali','Hamza'),\n",
    "    \"pets\":None,\n",
    "    \"cars\":[\n",
    "        {\"model\":\"BMW 230\",\"mpg\":27.5},\n",
    "        {\"model\":\"Honda\",\"mpg\":21.5}\n",
    "    ]\n",
    "}\n",
    "print(json.dumps(x))\n",
    "print(json.dumps(x,indent=2))\n",
    "print(json.dumps(x,indent=4,sort_keys=True))"
   ]
  },
  {
   "cell_type": "code",
   "execution_count": 44,
   "metadata": {},
   "outputs": [
    {
     "name": "stdout",
     "output_type": "stream",
     "text": [
      "Yes! we have a match\n",
      "yes! we have a match\n",
      "[]\n",
      "no match\n",
      "[' ', ' ', ' ']\n",
      "yes! we have a whitespace\n",
      "['is', 'is']\n",
      "['I', 'want to leave today']\n",
      "['I', 'want to leave today']\n"
     ]
    },
    {
     "name": "stderr",
     "output_type": "stream",
     "text": [
      "<>:21: SyntaxWarning: invalid escape sequence '\\d'\n",
      "<>:30: SyntaxWarning: invalid escape sequence '\\s'\n",
      "<>:44: SyntaxWarning: invalid escape sequence '\\s'\n",
      "<>:45: SyntaxWarning: invalid escape sequence '\\s'\n",
      "<>:21: SyntaxWarning: invalid escape sequence '\\d'\n",
      "<>:30: SyntaxWarning: invalid escape sequence '\\s'\n",
      "<>:44: SyntaxWarning: invalid escape sequence '\\s'\n",
      "<>:45: SyntaxWarning: invalid escape sequence '\\s'\n",
      "C:\\Users\\Ahsan\\AppData\\Local\\Temp\\ipykernel_11308\\2380390541.py:21: SyntaxWarning: invalid escape sequence '\\d'\n",
      "  x = re.findall('\\d',txt)\n",
      "C:\\Users\\Ahsan\\AppData\\Local\\Temp\\ipykernel_11308\\2380390541.py:30: SyntaxWarning: invalid escape sequence '\\s'\n",
      "  x = re.findall(\"\\s\",txt)\n",
      "C:\\Users\\Ahsan\\AppData\\Local\\Temp\\ipykernel_11308\\2380390541.py:44: SyntaxWarning: invalid escape sequence '\\s'\n",
      "  x = re.split(\"\\s\",text)\n",
      "C:\\Users\\Ahsan\\AppData\\Local\\Temp\\ipykernel_11308\\2380390541.py:45: SyntaxWarning: invalid escape sequence '\\s'\n",
      "  x = re.split(\"\\s\",text , 1)\n"
     ]
    }
   ],
   "source": [
    "#Regular Expression(Regex)\n",
    "import re\n",
    "txt = \"The rain in Spain\"\n",
    "x = re.search('^The.*Spain$',txt)\n",
    "\n",
    "if x:\n",
    "    print('Yes! we have a match')\n",
    "else:\n",
    "    print('no match')\n",
    "\n",
    "#\\Bain(checks if the text are present either in between the string)\n",
    "txt = 'The rain in Spain'\n",
    "x = re.findall(r\"\\Bain\",txt)\n",
    "if x :\n",
    "    print('yes! we have a match')\n",
    "else:\n",
    "    print('no match')\n",
    "\n",
    "#\\d(checks the match string contains any digit)\n",
    "txt = 'The rain in Spain meter'\n",
    "x = re.findall('\\d',txt)\n",
    "print(x)\n",
    "if x:\n",
    "    print('yes! we have a match')\n",
    "else:\n",
    "    print('no match')\n",
    "\n",
    "#\\s(returns when string contains whitespace)\n",
    "txt = 'Hello how are you'\n",
    "x = re.findall(\"\\s\",txt)\n",
    "print(x)\n",
    "\n",
    "if x:\n",
    "    print('yes! we have a whitespace')\n",
    "else:\n",
    "    print('no match')\n",
    "\n",
    "txt = 'Hi this is Ahsan'\n",
    "x = re.findall('is',txt)\n",
    "print(x)\n",
    "\n",
    "\n",
    "text = 'I want to leave today'\n",
    "x = re.split(\"\\s\",text)\n",
    "x = re.split(\"\\s\",text , 1)\n",
    "print(x)\n",
    "\n"
   ]
  },
  {
   "cell_type": "code",
   "execution_count": 47,
   "metadata": {},
   "outputs": [
    {
     "name": "stdout",
     "output_type": "stream",
     "text": [
      "Hi This is Ahsan\n"
     ]
    }
   ],
   "source": [
    "#PIP\n",
    "import camelcase\n",
    "c = camelcase.CamelCase()\n",
    "text = 'hello world'\n",
    "print(c.hump(txt))\n"
   ]
  },
  {
   "cell_type": "code",
   "execution_count": 53,
   "metadata": {},
   "outputs": [
    {
     "name": "stdout",
     "output_type": "stream",
     "text": [
      "An exception occured\n",
      "Variable text1 is not defined\n",
      "Hello\n",
      "Nothing wents wrong\n",
      "Ahsan\n",
      "The try except is finished\n"
     ]
    }
   ],
   "source": [
    "#Python Try_Except\n",
    "try:\n",
    "    print(text1)\n",
    "except:\n",
    "    print('An exception occured')\n",
    "\n",
    "try:\n",
    "    print(text1)\n",
    "except NameError:\n",
    "    print('Variable text1 is not defined')\n",
    "except:\n",
    "    print('Something wents wrong')\n",
    "\n",
    "\n",
    "try:\n",
    "    print('Hello')\n",
    "except:\n",
    "    print('Something went wrongs')\n",
    "else:\n",
    "    print('Nothing wents wrong')\n",
    "\n",
    "try:\n",
    "    print('Ahsan')\n",
    "except:\n",
    "    print('Something wents wrong')\n",
    "finally:\n",
    "    print('The try except is finished')\n"
   ]
  },
  {
   "cell_type": "code",
   "execution_count": null,
   "metadata": {},
   "outputs": [],
   "source": [
    "#Python Input\n",
    "username = input('Enter username:')\n",
    "print('Username is :'+ username)"
   ]
  },
  {
   "cell_type": "code",
   "execution_count": 14,
   "metadata": {},
   "outputs": [
    {
     "name": "stdout",
     "output_type": "stream",
     "text": [
      "The price is 60 $\n",
      "The price is 59.00 $\n",
      "The price is 800 dollars\n",
      "The price is 73.75 dollar\n",
      "I want 3 pieces of item number 567 for 49.00 dollars.\n",
      "I want 3 pieces of item number 1100 for 6.00 dollars.\n",
      "His name is john.john is 36 year old\n",
      "I have a Toyata, its ,model is Honda.\n"
     ]
    }
   ],
   "source": [
    "#Python String Formatting\n",
    "price = 60\n",
    "txt = f\"The price is {price} $\"\n",
    "print(txt)\n",
    "\n",
    "price = 59\n",
    "txt = f\"The price is {price:.2f} $\"\n",
    "print(txt)\n",
    "\n",
    "txt = f'The price is {20*40} dollars'\n",
    "print(txt)\n",
    "\n",
    "price = 59\n",
    "tax = 0.25\n",
    "txt = f'The price is {price + price*tax} dollar'\n",
    "print(txt)\n",
    "\n",
    "quantity = 3\n",
    "itemno = 567\n",
    "price = 49\n",
    "\n",
    "myorder = 'I want {} pieces of item number {} for {:.2f} dollars.'\n",
    "print(myorder.format(quantity,itemno,price))\n",
    "\n",
    "quantity = 3\n",
    "itemno =1100\n",
    "price = 6\n",
    "\n",
    "myorder = 'I want {0} pieces of item number {1} for {2:.2f} dollars.'\n",
    "print(myorder.format(quantity,itemno,price))\n",
    "\n",
    "age = 36\n",
    "name = 'john'\n",
    "txt = 'His name is {1}.{1} is {0} year old'\n",
    "print(txt.format(age,name))\n",
    "\n",
    "\n",
    "myorder = 'I have a {carname}, its ,model is {model}.'\n",
    "print(myorder.format(carname = 'Toyata',model = 'Honda'))"
   ]
  }
 ],
 "metadata": {
  "kernelspec": {
   "display_name": "env_name",
   "language": "python",
   "name": "python3"
  },
  "language_info": {
   "codemirror_mode": {
    "name": "ipython",
    "version": 3
   },
   "file_extension": ".py",
   "mimetype": "text/x-python",
   "name": "python",
   "nbconvert_exporter": "python",
   "pygments_lexer": "ipython3",
   "version": "3.12.4"
  }
 },
 "nbformat": 4,
 "nbformat_minor": 2
}
